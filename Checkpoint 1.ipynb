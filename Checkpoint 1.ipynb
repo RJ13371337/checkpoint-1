{
 "cells": [
  {
   "cell_type": "code",
   "execution_count": 2,
   "id": "275c0fb7",
   "metadata": {},
   "outputs": [
    {
     "name": "stdout",
     "output_type": "stream",
     "text": [
      "Welcolme to python world! Lets start coding\n"
     ]
    }
   ],
   "source": [
    "print(\"Welcolme to python world! Lets start coding\")"
   ]
  },
  {
   "cell_type": "code",
   "execution_count": null,
   "id": "62ddd5f1",
   "metadata": {},
   "outputs": [],
   "source": []
  }
 ],
 "metadata": {
  "kernelspec": {
   "display_name": "Python 3 (ipykernel)",
   "language": "python",
   "name": "python3"
  },
  "language_info": {
   "codemirror_mode": {
    "name": "ipython",
    "version": 3
   },
   "file_extension": ".py",
   "mimetype": "text/x-python",
   "name": "python",
   "nbconvert_exporter": "python",
   "pygments_lexer": "ipython3",
   "version": "3.9.13"
  }
 },
 "nbformat": 4,
 "nbformat_minor": 5
}
